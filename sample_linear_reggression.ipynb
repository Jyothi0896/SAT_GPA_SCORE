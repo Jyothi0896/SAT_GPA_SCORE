{
 "cells": [
  {
   "cell_type": "markdown",
   "id": "494c14be",
   "metadata": {},
   "source": [
    "The SAT is a test widely used for college admission in USA. People think that students that achieve high score in SAT, have also the highest GPA during college. In this we want to predict the average GPA cumulated by a student in the college, based only on the scores that he/she achieved in SAT.\n",
    "\n",
    "You are given a training dataset, in which each row contain the SAT score and average GPA cumulated during college. Use this dataset for training your model and then test your model using test dataset. Each row of test dataset contain SAT score. Finally you predict GPA score for each row of the test dataset.\n"
   ]
  },
  {
   "cell_type": "code",
   "execution_count": 1,
   "id": "43757284",
   "metadata": {},
   "outputs": [],
   "source": [
    "import pandas as pd\n",
    "import numpy as np\n",
    "import matplotlib.pyplot as plt\n",
    "import seaborn as sns"
   ]
  },
  {
   "cell_type": "code",
   "execution_count": 2,
   "id": "d5660699",
   "metadata": {},
   "outputs": [],
   "source": [
    "df=pd.read_csv(\"C:/Users/sairam/Downloads/datasets/sat-gmat.csv\")"
   ]
  },
  {
   "cell_type": "code",
   "execution_count": 3,
   "id": "98825cbb",
   "metadata": {},
   "outputs": [
    {
     "data": {
      "text/html": [
       "<div>\n",
       "<style scoped>\n",
       "    .dataframe tbody tr th:only-of-type {\n",
       "        vertical-align: middle;\n",
       "    }\n",
       "\n",
       "    .dataframe tbody tr th {\n",
       "        vertical-align: top;\n",
       "    }\n",
       "\n",
       "    .dataframe thead th {\n",
       "        text-align: right;\n",
       "    }\n",
       "</style>\n",
       "<table border=\"1\" class=\"dataframe\">\n",
       "  <thead>\n",
       "    <tr style=\"text-align: right;\">\n",
       "      <th></th>\n",
       "      <th>SAT</th>\n",
       "      <th>GPA</th>\n",
       "    </tr>\n",
       "  </thead>\n",
       "  <tbody>\n",
       "    <tr>\n",
       "      <th>0</th>\n",
       "      <td>1714</td>\n",
       "      <td>2.40</td>\n",
       "    </tr>\n",
       "    <tr>\n",
       "      <th>1</th>\n",
       "      <td>1664</td>\n",
       "      <td>2.52</td>\n",
       "    </tr>\n",
       "    <tr>\n",
       "      <th>2</th>\n",
       "      <td>1760</td>\n",
       "      <td>2.54</td>\n",
       "    </tr>\n",
       "    <tr>\n",
       "      <th>3</th>\n",
       "      <td>1685</td>\n",
       "      <td>2.74</td>\n",
       "    </tr>\n",
       "    <tr>\n",
       "      <th>4</th>\n",
       "      <td>1693</td>\n",
       "      <td>2.83</td>\n",
       "    </tr>\n",
       "  </tbody>\n",
       "</table>\n",
       "</div>"
      ],
      "text/plain": [
       "    SAT   GPA\n",
       "0  1714  2.40\n",
       "1  1664  2.52\n",
       "2  1760  2.54\n",
       "3  1685  2.74\n",
       "4  1693  2.83"
      ]
     },
     "execution_count": 3,
     "metadata": {},
     "output_type": "execute_result"
    }
   ],
   "source": [
    "df.head()"
   ]
  },
  {
   "cell_type": "code",
   "execution_count": 4,
   "id": "6a8a1d7c",
   "metadata": {},
   "outputs": [
    {
     "data": {
      "text/html": [
       "<div>\n",
       "<style scoped>\n",
       "    .dataframe tbody tr th:only-of-type {\n",
       "        vertical-align: middle;\n",
       "    }\n",
       "\n",
       "    .dataframe tbody tr th {\n",
       "        vertical-align: top;\n",
       "    }\n",
       "\n",
       "    .dataframe thead th {\n",
       "        text-align: right;\n",
       "    }\n",
       "</style>\n",
       "<table border=\"1\" class=\"dataframe\">\n",
       "  <thead>\n",
       "    <tr style=\"text-align: right;\">\n",
       "      <th></th>\n",
       "      <th>SAT</th>\n",
       "      <th>GPA</th>\n",
       "    </tr>\n",
       "  </thead>\n",
       "  <tbody>\n",
       "    <tr>\n",
       "      <th>SAT</th>\n",
       "      <td>1.000000</td>\n",
       "      <td>0.637184</td>\n",
       "    </tr>\n",
       "    <tr>\n",
       "      <th>GPA</th>\n",
       "      <td>0.637184</td>\n",
       "      <td>1.000000</td>\n",
       "    </tr>\n",
       "  </tbody>\n",
       "</table>\n",
       "</div>"
      ],
      "text/plain": [
       "          SAT       GPA\n",
       "SAT  1.000000  0.637184\n",
       "GPA  0.637184  1.000000"
      ]
     },
     "execution_count": 4,
     "metadata": {},
     "output_type": "execute_result"
    }
   ],
   "source": [
    "df.corr()"
   ]
  },
  {
   "cell_type": "code",
   "execution_count": 5,
   "id": "90f8531d",
   "metadata": {},
   "outputs": [
    {
     "name": "stdout",
     "output_type": "stream",
     "text": [
      "<class 'pandas.core.frame.DataFrame'>\n",
      "RangeIndex: 84 entries, 0 to 83\n",
      "Data columns (total 2 columns):\n",
      " #   Column  Non-Null Count  Dtype  \n",
      "---  ------  --------------  -----  \n",
      " 0   SAT     84 non-null     int64  \n",
      " 1   GPA     84 non-null     float64\n",
      "dtypes: float64(1), int64(1)\n",
      "memory usage: 1.4 KB\n"
     ]
    }
   ],
   "source": [
    "df.info()"
   ]
  },
  {
   "cell_type": "code",
   "execution_count": 6,
   "id": "da1ef740",
   "metadata": {},
   "outputs": [],
   "source": [
    "import statsmodels.formula.api as smf "
   ]
  },
  {
   "cell_type": "code",
   "execution_count": 8,
   "id": "59de48c6",
   "metadata": {},
   "outputs": [
    {
     "data": {
      "text/plain": [
       "<matplotlib.collections.PathCollection at 0x1daf5d72700>"
      ]
     },
     "execution_count": 8,
     "metadata": {},
     "output_type": "execute_result"
    },
    {
     "data": {
      "image/png": "[encoded data removed]",
      "text/plain": [
       "<Figure size 432x288 with 1 Axes>"
      ]
     },
     "metadata": {
      "needs_background": "light"
     },
     "output_type": "display_data"
    }
   ],
   "source": [
    "plt.scatter(df['SAT'],df['GPA'])"
   ]
  },
  {
   "cell_type": "code",
   "execution_count": 10,
   "id": "4c59389e",
   "metadata": {},
   "outputs": [],
   "source": [
    "model1=smf.ols('GPA~SAT',data=df).fit()"
   ]
  },
  {
   "cell_type": "code",
   "execution_count": 12,
   "id": "75f352a1",
   "metadata": {},
   "outputs": [
    {
     "data": {
      "text/plain": [
       "Intercept    0.275040\n",
       "SAT          0.001656\n",
       "dtype: float64"
      ]
     },
     "execution_count": 12,
     "metadata": {},
     "output_type": "execute_result"
    }
   ],
   "source": [
    "model1.params"
   ]
  },
  {
   "cell_type": "code",
   "execution_count": 16,
   "id": "2b4b4016",
   "metadata": {},
   "outputs": [],
   "source": [
    "pred1=model1.predict(df.iloc[:,0])"
   ]
  },
  {
   "cell_type": "code",
   "execution_count": 17,
   "id": "0606cef7",
   "metadata": {},
   "outputs": [
    {
     "data": {
      "text/plain": [
       "0     3.112890\n",
       "1     3.030105\n",
       "2     3.189051\n",
       "3     3.064875\n",
       "4     3.078120\n",
       "        ...   \n",
       "79    3.480452\n",
       "80    3.271836\n",
       "81    3.564892\n",
       "82    3.523500\n",
       "83    3.669201\n",
       "Length: 84, dtype: float64"
      ]
     },
     "execution_count": 17,
     "metadata": {},
     "output_type": "execute_result"
    }
   ],
   "source": [
    "pred1"
   ]
  },
  {
   "cell_type": "code",
   "execution_count": 20,
   "id": "bee97a6c",
   "metadata": {},
   "outputs": [
    {
     "data": {
      "text/plain": [
       "[<matplotlib.lines.Line2D at 0x1daf7055bb0>]"
      ]
     },
     "execution_count": 20,
     "metadata": {},
     "output_type": "execute_result"
    },
    {
     "data": {
      "image/png": "[encoded data removed]",
      "text/plain": [
       "<Figure size 432x288 with 1 Axes>"
      ]
     },
     "metadata": {
      "needs_background": "light"
     },
     "output_type": "display_data"
    }
   ],
   "source": [
    "plt.scatter(x=df['SAT'],y=df['GPA'],color='black')\n",
    "plt.plot(df['SAT'],pred1,color='red')"
   ]
  },
  {
   "cell_type": "code",
   "execution_count": 21,
   "id": "a89b8b1d",
   "metadata": {},
   "outputs": [],
   "source": [
    "from sklearn.linear_model import LinearRegression"
   ]
  },
  {
   "cell_type": "code",
   "execution_count": 22,
   "id": "73d96470",
   "metadata": {},
   "outputs": [],
   "source": [
    "model2=LinearRegression()"
   ]
  },
  {
   "cell_type": "code",
   "execution_count": 25,
   "id": "65bf5ac1",
   "metadata": {},
   "outputs": [],
   "source": [
    "features=df.iloc[:,[0]]\n",
    "labels=df.iloc[:,[1]]"
   ]
  },
  {
   "cell_type": "code",
   "execution_count": 26,
   "id": "4d2aa138",
   "metadata": {},
   "outputs": [
    {
     "data": {
      "text/plain": [
       "LinearRegression()"
      ]
     },
     "execution_count": 26,
     "metadata": {},
     "output_type": "execute_result"
    }
   ],
   "source": [
    "model2.fit(features,labels)"
   ]
  },
  {
   "cell_type": "code",
   "execution_count": 27,
   "id": "2fa710a6",
   "metadata": {},
   "outputs": [],
   "source": [
    "pred2=model2.predict(features)"
   ]
  },
  {
   "cell_type": "code",
   "execution_count": 28,
   "id": "af144230",
   "metadata": {},
   "outputs": [
    {
     "data": {
      "text/plain": [
       "0.40600391479679765"
      ]
     },
     "execution_count": 28,
     "metadata": {},
     "output_type": "execute_result"
    }
   ],
   "source": [
    "model2.score(features,labels)"
   ]
  },
  {
   "cell_type": "code",
   "execution_count": 29,
   "id": "e01f57f7",
   "metadata": {},
   "outputs": [
    {
     "data": {
      "text/plain": [
       "array([0.2750403])"
      ]
     },
     "execution_count": 29,
     "metadata": {},
     "output_type": "execute_result"
    }
   ],
   "source": [
    "model2.intercept_"
   ]
  },
  {
   "cell_type": "code",
   "execution_count": 30,
   "id": "8d5e0e72",
   "metadata": {},
   "outputs": [
    {
     "data": {
      "text/plain": [
       "array([[0.00165569]])"
      ]
     },
     "execution_count": 30,
     "metadata": {},
     "output_type": "execute_result"
    }
   ],
   "source": [
    "model2.coef_"
   ]
  },
  {
   "cell_type": "code",
   "execution_count": 31,
   "id": "be2b9cd5",
   "metadata": {},
   "outputs": [
    {
     "data": {
      "text/plain": [
       "array([[3.11288962],\n",
       "       [3.03010522],\n",
       "       [3.18905127],\n",
       "       [3.06487466],\n",
       "       [3.07812017],\n",
       "       [3.04003934],\n",
       "       [3.19567402],\n",
       "       [3.19567402],\n",
       "       [3.24203329],\n",
       "       [3.33806319],\n",
       "       [3.14765907],\n",
       "       [3.21388659],\n",
       "       [3.14765907],\n",
       "       [3.10957824],\n",
       "       [3.21057521],\n",
       "       [3.37448833],\n",
       "       [3.18077283],\n",
       "       [3.0466621 ],\n",
       "       [3.32481769],\n",
       "       [3.23209916],\n",
       "       [3.19070696],\n",
       "       [3.12613512],\n",
       "       [3.02844953],\n",
       "       [3.06818604],\n",
       "       [3.54336851],\n",
       "       [3.29832668],\n",
       "       [3.23375485],\n",
       "       [3.29004824],\n",
       "       [3.61953016],\n",
       "       [3.24534466],\n",
       "       [3.20395246],\n",
       "       [3.47714099],\n",
       "       [3.21388659],\n",
       "       [3.34634163],\n",
       "       [3.38773383],\n",
       "       [3.3364075 ],\n",
       "       [3.26852429],\n",
       "       [3.51025475],\n",
       "       [3.21719796],\n",
       "       [3.30660512],\n",
       "       [3.36289851],\n",
       "       [3.33806319],\n",
       "       [3.53012301],\n",
       "       [3.09302136],\n",
       "       [3.56985952],\n",
       "       [3.4622398 ],\n",
       "       [3.2950153 ],\n",
       "       [3.51356613],\n",
       "       [3.34965301],\n",
       "       [3.55164695],\n",
       "       [3.25859017],\n",
       "       [3.34634163],\n",
       "       [3.43243741],\n",
       "       [2.98043457],\n",
       "       [3.38607815],\n",
       "       [3.39932365],\n",
       "       [3.13938063],\n",
       "       [3.50859906],\n",
       "       [3.22382072],\n",
       "       [3.4059464 ],\n",
       "       [3.52681163],\n",
       "       [3.26852429],\n",
       "       [3.40925778],\n",
       "       [3.65429961],\n",
       "       [3.40925778],\n",
       "       [3.30826081],\n",
       "       [3.33806319],\n",
       "       [3.47714099],\n",
       "       [3.35627576],\n",
       "       [3.47217392],\n",
       "       [3.4754853 ],\n",
       "       [3.21885365],\n",
       "       [3.5450242 ],\n",
       "       [3.47714099],\n",
       "       [3.62118585],\n",
       "       [3.61125172],\n",
       "       [3.58144934],\n",
       "       [3.61953016],\n",
       "       [3.32647338],\n",
       "       [3.48045236],\n",
       "       [3.27183567],\n",
       "       [3.56489246],\n",
       "       [3.52350025],\n",
       "       [3.6692008 ]])"
      ]
     },
     "execution_count": 31,
     "metadata": {},
     "output_type": "execute_result"
    }
   ],
   "source": [
    "pred2"
   ]
  },
  {
   "cell_type": "code",
   "execution_count": 32,
   "id": "f2378f8a",
   "metadata": {},
   "outputs": [],
   "source": [
    "from sklearn.model_selection import train_test_split"
   ]
  },
  {
   "cell_type": "code",
   "execution_count": 33,
   "id": "bd1fd7cf",
   "metadata": {},
   "outputs": [],
   "source": [
    "x_train,x_test,y_train,y_test=train_test_split(features,labels,test_size=0.2,random_state=18)"
   ]
  },
  {
   "cell_type": "code",
   "execution_count": 34,
   "id": "be7172ad",
   "metadata": {},
   "outputs": [],
   "source": [
    "model3=LinearRegression()"
   ]
  },
  {
   "cell_type": "code",
   "execution_count": 35,
   "id": "e9e55ef9",
   "metadata": {},
   "outputs": [
    {
     "data": {
      "text/plain": [
       "LinearRegression()"
      ]
     },
     "execution_count": 35,
     "metadata": {},
     "output_type": "execute_result"
    }
   ],
   "source": [
    "model3.fit(x_train,y_train)"
   ]
  },
  {
   "cell_type": "code",
   "execution_count": 36,
   "id": "c998a9f3",
   "metadata": {},
   "outputs": [
    {
     "data": {
      "text/plain": [
       "0.4078808067516003"
      ]
     },
     "execution_count": 36,
     "metadata": {},
     "output_type": "execute_result"
    }
   ],
   "source": [
    "model3.score(x_train,y_train)"
   ]
  },
  {
   "cell_type": "code",
   "execution_count": 37,
   "id": "db1c8966",
   "metadata": {},
   "outputs": [
    {
     "data": {
      "text/plain": [
       "0.3655050051403186"
      ]
     },
     "execution_count": 37,
     "metadata": {},
     "output_type": "execute_result"
    }
   ],
   "source": [
    "model3.score(x_test,y_test)"
   ]
  },
  {
   "cell_type": "code",
   "execution_count": 45,
   "id": "8e9aeb31",
   "metadata": {},
   "outputs": [],
   "source": [
    "x_train_pred=model3.predict(x_train)\n",
    "x_test_pred=model3.predict(x_test)"
   ]
  },
  {
   "cell_type": "code",
   "execution_count": 46,
   "id": "3be2b282",
   "metadata": {},
   "outputs": [
    {
     "data": {
      "text/plain": [
       "array([[3.33279914],\n",
       "       [3.56746304],\n",
       "       [3.20775926],\n",
       "       [3.18549188],\n",
       "       [3.47496778],\n",
       "       [3.57260166],\n",
       "       [3.65995829],\n",
       "       [3.51436391],\n",
       "       [3.52464116],\n",
       "       [3.47668065],\n",
       "       [3.30025452],\n",
       "       [3.62398791],\n",
       "       [3.12725413],\n",
       "       [3.62570079],\n",
       "       [3.17864038],\n",
       "       [3.43043303],\n",
       "       [3.28312577],\n",
       "       [3.20433351],\n",
       "       [3.40302702],\n",
       "       [3.34478927],\n",
       "       [3.35849227],\n",
       "       [3.22488801],\n",
       "       [3.4801064 ],\n",
       "       [3.33108627],\n",
       "       [3.34136352],\n",
       "       [3.46126478],\n",
       "       [3.0124915 ],\n",
       "       [3.52806691],\n",
       "       [3.29169014],\n",
       "       [3.3841854 ],\n",
       "       [3.67537417],\n",
       "       [3.20433351],\n",
       "       [3.11355113],\n",
       "       [3.47668065],\n",
       "       [3.38247252],\n",
       "       [3.62398791],\n",
       "       [3.25058114],\n",
       "       [3.05017475],\n",
       "       [3.3704824 ],\n",
       "       [3.21461076],\n",
       "       [3.20947214],\n",
       "       [3.40645277],\n",
       "       [3.33279914],\n",
       "       [3.23687814],\n",
       "       [3.09984813],\n",
       "       [3.31909614],\n",
       "       [3.58459179],\n",
       "       [3.09642238],\n",
       "       [3.20090776],\n",
       "       [3.47668065],\n",
       "       [3.30196739],\n",
       "       [3.35164077],\n",
       "       [3.26085839],\n",
       "       [3.39617552],\n",
       "       [3.13581851],\n",
       "       [3.26428414],\n",
       "       [3.02448162],\n",
       "       [3.03133312],\n",
       "       [3.54519566],\n",
       "       [3.23345239],\n",
       "       [3.33279914],\n",
       "       [3.28826439],\n",
       "       [3.55376003],\n",
       "       [3.40645277],\n",
       "       [3.47154203],\n",
       "       [3.22317514],\n",
       "       [3.53149266]])"
      ]
     },
     "execution_count": 46,
     "metadata": {},
     "output_type": "execute_result"
    }
   ],
   "source": [
    "x_train_pred"
   ]
  },
  {
   "cell_type": "code",
   "execution_count": 47,
   "id": "222a36e3",
   "metadata": {},
   "outputs": [
    {
     "data": {
      "text/plain": [
       "array([[3.0536005 ],\n",
       "       [3.13581851],\n",
       "       [2.96281812],\n",
       "       [3.61542354],\n",
       "       [3.26085839],\n",
       "       [3.50922528],\n",
       "       [3.18035326],\n",
       "       [3.18549188],\n",
       "       [3.51093816],\n",
       "       [3.34136352],\n",
       "       [3.07929363],\n",
       "       [3.01420437],\n",
       "       [3.19405626],\n",
       "       [3.06387775],\n",
       "       [3.54690853],\n",
       "       [3.32080902],\n",
       "       [3.17007601]])"
      ]
     },
     "execution_count": 47,
     "metadata": {},
     "output_type": "execute_result"
    }
   ],
   "source": [
    "x_test_pred"
   ]
  },
  {
   "cell_type": "code",
   "execution_count": 43,
   "id": "ef78dbd6",
   "metadata": {},
   "outputs": [],
   "source": [
    "from sklearn.metrics import mean_squared_error,r2_score"
   ]
  },
  {
   "cell_type": "code",
   "execution_count": 51,
   "id": "c9631959",
   "metadata": {},
   "outputs": [],
   "source": [
    "mse=mean_squared_error(y_train,x_train_pred)\n",
    "r2sq=r2_score(y_train,x_train_pred)"
   ]
  },
  {
   "cell_type": "code",
   "execution_count": 52,
   "id": "d9bfb721",
   "metadata": {},
   "outputs": [
    {
     "data": {
      "text/plain": [
       "0.040726060997116294"
      ]
     },
     "execution_count": 52,
     "metadata": {},
     "output_type": "execute_result"
    }
   ],
   "source": [
    "mse"
   ]
  },
  {
   "cell_type": "code",
   "execution_count": 53,
   "id": "55718848",
   "metadata": {},
   "outputs": [
    {
     "data": {
      "text/plain": [
       "0.4078808067516003"
      ]
     },
     "execution_count": 53,
     "metadata": {},
     "output_type": "execute_result"
    }
   ],
   "source": [
    "r2sq"
   ]
  },
  {
   "cell_type": "code",
   "execution_count": 54,
   "id": "02b05d2c",
   "metadata": {},
   "outputs": [
    {
     "data": {
      "text/plain": [
       "0.20180698946546993"
      ]
     },
     "execution_count": 54,
     "metadata": {},
     "output_type": "execute_result"
    }
   ],
   "source": [
    "np.sqrt(mse)"
   ]
  }
 ],
 "metadata": {
  "kernelspec": {
   "display_name": "Python 3",
   "language": "python",
   "name": "python3"
  },
  "language_info": {
   "codemirror_mode": {
    "name": "ipython",
    "version": 3
   },
   "file_extension": ".py",
   "mimetype": "text/x-python",
   "name": "python",
   "nbconvert_exporter": "python",
   "pygments_lexer": "ipython3",
   "version": "3.8.8"
  }
 },
 "nbformat": 4,
 "nbformat_minor": 5
}
